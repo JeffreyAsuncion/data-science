{
 "metadata": {
  "language_info": {
   "codemirror_mode": {
    "name": "ipython",
    "version": 3
   },
   "file_extension": ".py",
   "mimetype": "text/x-python",
   "name": "python",
   "nbconvert_exporter": "python",
   "pygments_lexer": "ipython3",
   "version": 3
  },
  "orig_nbformat": 2
 },
 "nbformat": 4,
 "nbformat_minor": 2,
 "cells": [
  {
   "cell_type": "code",
   "execution_count": null,
   "metadata": {},
   "outputs": [],
   "source": [
    "'''function to graph songs based on inputed name'''\n",
    "df = pd.read_csv(\"https://github.com/spotify-song-suggestion/data-science/raw/main/csv/data.csv\")\n",
    "def song_graph(songname):\n",
    "    for songname in song_graph:\n",
    "        row = df[df['name'] <=50)]\n",
    "\n",
    "    \"\"\"Mapping of names to random rgb colors.\"\"\"\n",
    "    \n",
    "     mapping_colors = dict()\n",
    "    \n",
    "    for name in row.unique():\n",
    "        red = random.randint(r_min, r_max)\n",
    "        green = random.randint(g_min, g_max)\n",
    "        blue = random.randint(b_min, b_max)\n",
    "        rgb_string = 'rgb({}, {}, {})'.format(red, green, blue)\n",
    "    \n",
    "        mapping_colors[name] = rgb_string\n",
    "    \n"
   ]
  },
  {
   "cell_type": "code",
   "execution_count": null,
   "metadata": {},
   "outputs": [],
   "source": [
    "def song_graph(songname):\n",
    "    for songname in song_graph:\n",
    "        row = df[df['name'] <=50)]\n",
    "\n",
    "    \"\"\"Mapping of names to random rgb colors.\"\"\"\n",
    "    \n",
    "     mapping_colors = dict()\n",
    "    \n",
    "    for name in row.unique():\n",
    "        red = random.randint(r_min, r_max)\n",
    "        green = random.randint(g_min, g_max)\n",
    "        blue = random.randint(b_min, b_max)\n",
    "        rgb_string = 'rgb({}, {}, {})'.format(red, green, blue)\n",
    "    \n",
    "        mapping_colors[name] = rgb_string\n",
    "    "
   ]
  }
 ]
}