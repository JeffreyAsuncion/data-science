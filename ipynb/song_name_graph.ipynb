{
 "metadata": {
  "language_info": {
   "codemirror_mode": {
    "name": "ipython",
    "version": 3
   },
   "file_extension": ".py",
   "mimetype": "text/x-python",
   "name": "python",
   "nbconvert_exporter": "python",
   "pygments_lexer": "ipython3",
   "version": 3
  },
  "orig_nbformat": 2
 },
 "nbformat": 4,
 "nbformat_minor": 2,
 "cells": [
  {
   "cell_type": "code",
   "execution_count": null,
   "metadata": {},
   "outputs": [],
   "source": [
    "'''function to graph songs based on inputed name'''\n",
    "df = pd.read_csv(\"https://github.com/spotify-song-suggestion/data-science/raw/main/csv/data.csv\")\n",
    "def song_graph(songname):\n",
    "    row = df[df['name' == songname]\n",
    "    "
   ]
  }
 ]
}